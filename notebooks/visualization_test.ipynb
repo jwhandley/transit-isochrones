{
 "cells": [
  {
   "cell_type": "code",
   "execution_count": 8,
   "metadata": {},
   "outputs": [
    {
     "name": "stdout",
     "output_type": "stream",
     "text": [
      "200\n"
     ]
    }
   ],
   "source": [
    "import geopandas as gpd\n",
    "import requests\n",
    "\n",
    "lat = 48.85341\n",
    "lon = 2.3488\n",
    "\n",
    "request = f\"http://localhost:8000/isochrone/isochrone?lat={lat}&lon={lon}&arrival_time=08:30:00&duration=3060\"\n",
    "response = requests.get(request)\n",
    "\n",
    "if response.status_code == 200:\n",
    "    geojson = response.text\n",
    "    gdf = gpd.read_file(geojson)\n",
    "    gdf.explore()\n",
    "else:\n",
    "    print(\"Error: \" + str(response.status_code))\n"
   ]
  },
  {
   "cell_type": "code",
   "execution_count": null,
   "metadata": {},
   "outputs": [],
   "source": []
  }
 ],
 "metadata": {
  "kernelspec": {
   "display_name": "base",
   "language": "python",
   "name": "python3"
  },
  "language_info": {
   "codemirror_mode": {
    "name": "ipython",
    "version": 3
   },
   "file_extension": ".py",
   "mimetype": "text/x-python",
   "name": "python",
   "nbconvert_exporter": "python",
   "pygments_lexer": "ipython3",
   "version": "3.11.6"
  }
 },
 "nbformat": 4,
 "nbformat_minor": 2
}
